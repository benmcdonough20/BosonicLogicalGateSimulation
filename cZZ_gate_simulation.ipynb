{
 "cells": [
  {
   "cell_type": "code",
   "execution_count": 1,
   "metadata": {},
   "outputs": [],
   "source": [
    "import scqubits as sc\n",
    "import qutip as qt\n",
    "import numpy as np\n",
    "from matplotlib import pyplot as plt\n",
    "import array_to_latex as a2l\n",
    "from scipy.linalg import inv"
   ]
  },
  {
   "cell_type": "code",
   "execution_count": 2,
   "metadata": {},
   "outputs": [],
   "source": [
    "omega = 6.67\n",
    "g1 = .2\n",
    "\n",
    "qubit = sc.Transmon(\n",
    "    EJ = 16.0, \n",
    "    EC = 0.2, \n",
    "    ng = 0, \n",
    "    ncut = 30,\n",
    "    truncated_dim=10\n",
    ")\n",
    "\n",
    "res_a = sc.Oscillator(E_osc=omega, truncated_dim = 20)\n",
    "res_b = sc.Oscillator(E_osc=omega, truncated_dim = 20)\n",
    "\n",
    "hs = sc.HilbertSpace([qubit, res_a, res_b])\n",
    "\n",
    "hs.add_interaction(\n",
    "    g_strength = g1,\n",
    "    op1 = qubit.n_operator,\n",
    "    op2 = res_a.annihilation_operator,\n",
    "    add_hc = True\n",
    ")\n",
    "\n",
    "hs.generate_lookup()"
   ]
  },
  {
   "cell_type": "code",
   "execution_count": 3,
   "metadata": {},
   "outputs": [],
   "source": [
    "tot_trunc = 40\n",
    "def trunc(op): #method for truncating Qobjs\n",
    "    return qt.Qobj(op[:tot_trunc, :tot_trunc])"
   ]
  },
  {
   "cell_type": "code",
   "execution_count": 4,
   "metadata": {},
   "outputs": [],
   "source": [
    "a = hs.op_in_dressed_eigenbasis(op=res_a.annihilation_operator) #convert subsystem operators to dressed eigenbasis rep\n",
    "b = hs.op_in_dressed_eigenbasis(op=res_b.annihilation_operator)"
   ]
  },
  {
   "cell_type": "code",
   "execution_count": 5,
   "metadata": {},
   "outputs": [],
   "source": [
    "#subsystem Hamiltonians\n",
    "res_a_ham = omega*a.dag()*a\n",
    "res_b_ham = omega*b.dag()*b\n",
    "qubit_ham = hs.op_in_dressed_eigenbasis(op=qubit.hamiltonian)\n",
    "\n",
    "#bare Hamiltonian\n",
    "bare_ham = trunc(qubit_ham + res_a_ham + res_b_ham)\n",
    "\n",
    "def state_transformation(state, t): #move to interaction picture\n",
    "    return (2j*np.pi*bare_ham*t).expm()*state"
   ]
  },
  {
   "cell_type": "code",
   "execution_count": 6,
   "metadata": {},
   "outputs": [],
   "source": [
    "#calculate dispersive shift\n",
    "w2 = hs.energy_by_bare_index((1,1,0)) - hs.energy_by_bare_index((1,0,0))\n",
    "w1 = hs.energy_by_bare_index((0,1,0)) - hs.energy_by_bare_index((0,0,0))\n",
    "chi = (w2-w1)/2\n",
    "g = -np.sqrt(3)/2 * chi"
   ]
  },
  {
   "cell_type": "code",
   "execution_count": 7,
   "metadata": {},
   "outputs": [
    {
     "data": {
      "text/plain": [
       "0.0006293699283061227"
      ]
     },
     "execution_count": 7,
     "metadata": {},
     "output_type": "execute_result"
    }
   ],
   "source": [
    "g/(2*np.pi)"
   ]
  },
  {
   "cell_type": "code",
   "execution_count": 8,
   "metadata": {},
   "outputs": [],
   "source": [
    "bsc = trunc(g/2*(a*b.dag()+b*a.dag())) #beamsplitter Hamiltonian"
   ]
  },
  {
   "cell_type": "code",
   "execution_count": 9,
   "metadata": {},
   "outputs": [],
   "source": [
    "(evals,) = hs[\"evals\"]\n",
    "diag_dressed = (\n",
    "    2*np.pi*qt.Qobj(np.diag(evals),\n",
    "    dims = [hs.subsystem_dims] * 2)\n",
    ")"
   ]
  },
  {
   "cell_type": "code",
   "execution_count": 10,
   "metadata": {},
   "outputs": [],
   "source": [
    "diag_dressed_trunc = trunc(diag_dressed)"
   ]
  },
  {
   "cell_type": "code",
   "execution_count": 11,
   "metadata": {},
   "outputs": [],
   "source": [
    "def conditional_basis(qubit):\n",
    "    return [hs.dressed_index((qubit, a,b)) for (a,b) in [(0,0),(0,1),(1,0),(1,1)]]"
   ]
  },
  {
   "cell_type": "code",
   "execution_count": 12,
   "metadata": {},
   "outputs": [],
   "source": [
    "def prop_col(initial, qubit):\n",
    "    col = [] \n",
    "    tlist = np.linspace(0, 2*np.pi/g, 1000)\n",
    "    result = qt.sesolve(\n",
    "            diag_dressed_trunc + 2*np.pi*bsc,\n",
    "            qt.basis(tot_trunc, initial),\n",
    "            tlist,\n",
    "        )\n",
    "    for idx in conditional_basis(qubit):\n",
    "        col.append(state_transformation(result.states[-1], tlist[-1])[idx][0][0])\n",
    "    return col"
   ]
  },
  {
   "cell_type": "code",
   "execution_count": 13,
   "metadata": {},
   "outputs": [],
   "source": [
    "def conditional_propagator(qubit):\n",
    "    prop = []\n",
    "    for idx in conditional_basis(qubit):\n",
    "        prop.append(prop_col(idx, qubit))\n",
    "    return prop"
   ]
  },
  {
   "cell_type": "code",
   "execution_count": 14,
   "metadata": {},
   "outputs": [],
   "source": [
    "Ug = conditional_propagator(0)"
   ]
  },
  {
   "cell_type": "code",
   "execution_count": 15,
   "metadata": {},
   "outputs": [],
   "source": [
    "Uf = conditional_propagator(2)"
   ]
  },
  {
   "cell_type": "code",
   "execution_count": 16,
   "metadata": {},
   "outputs": [
    {
     "name": "stdout",
     "output_type": "stream",
     "text": [
      "\\begin{bmatrix}\n",
      " -0.10 + 0.98j &  0.00 + 0.00j &  0.00 + 0.00j &  0.00 + 0.00j\\\\\n",
      "  0.00 + 0.00j &  0.63 + 0.65j & -0.00 + -0.02j &  0.00 + 0.00j\\\\\n",
      "  0.00 + 0.00j &  0.02 + 0.00j & -0.62 + -0.65j &  0.00 + 0.00j\\\\\n",
      "  0.00 + 0.00j &  0.00 + 0.00j &  0.00 + 0.00j & -0.50 + -0.54j\n",
      "\\end{bmatrix}\n"
     ]
    }
   ],
   "source": [
    "a2l.to_ltx(inv(Ug)*Uf)"
   ]
  },
  {
   "cell_type": "code",
   "execution_count": 17,
   "metadata": {},
   "outputs": [
    {
     "name": "stdout",
     "output_type": "stream",
     "text": [
      "\\begin{bmatrix}\n",
      "  0.90 + -0.42j &  0.00 + 0.00j &  0.00 + 0.00j & -0.00 + -0.00j\\\\\n",
      "  0.00 + 0.00j &  0.10 + -0.90j & -0.27 + -0.09j &  0.00 + 0.00j\\\\\n",
      "  0.00 + 0.00j &  0.16 + -0.25j &  0.61 + 0.61j &  0.00 + 0.00j\\\\\n",
      " -0.00 + 0.00j &  0.00 + 0.00j &  0.00 + 0.00j & -0.33 + 0.63j\n",
      "\\end{bmatrix}\n"
     ]
    }
   ],
   "source": [
    "a2l.to_ltx(np.matrix(Uf))"
   ]
  },
  {
   "cell_type": "code",
   "execution_count": 18,
   "metadata": {},
   "outputs": [
    {
     "name": "stdout",
     "output_type": "stream",
     "text": [
      "\\begin{bmatrix}\n",
      " -0.52 + -0.86j &  0.00 + 0.00j &  0.00 + 0.00j & -0.00 + 0.00j\\\\\n",
      "  0.00 + 0.00j & -0.64 + -0.77j &  0.03 + -0.06j &  0.00 + 0.00j\\\\\n",
      "  0.00 + 0.00j &  0.03 + -0.06j & -0.96 + 0.02j &  0.00 + 0.00j\\\\\n",
      " -0.00 + -0.00j &  0.00 + 0.00j &  0.00 + 0.00j & -0.33 + -0.90j\n",
      "\\end{bmatrix}\n"
     ]
    }
   ],
   "source": [
    "a2l.to_ltx(np.matrix(Ug))"
   ]
  }
 ],
 "metadata": {
  "kernelspec": {
   "display_name": "Python 3",
   "language": "python",
   "name": "python3"
  },
  "language_info": {
   "codemirror_mode": {
    "name": "ipython",
    "version": 3
   },
   "file_extension": ".py",
   "mimetype": "text/x-python",
   "name": "python",
   "nbconvert_exporter": "python",
   "pygments_lexer": "ipython3",
   "version": "3.10.10"
  }
 },
 "nbformat": 4,
 "nbformat_minor": 2
}
